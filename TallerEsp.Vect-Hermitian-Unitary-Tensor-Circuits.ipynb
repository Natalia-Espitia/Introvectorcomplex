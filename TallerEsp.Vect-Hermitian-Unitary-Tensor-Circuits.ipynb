{
 "cells": [
  {
   "cell_type": "markdown",
   "id": "c7d4de9a-e7dc-4cf3-bd8d-7da869ceb9ac",
   "metadata": {},
   "source": [
    "# Hermitian Matrices, Unitary Matrices and Tensor Product"
   ]
  },
  {
   "cell_type": "markdown",
   "id": "007db568-62bf-4098-a52f-281b41db3012",
   "metadata": {},
   "source": [
    "\n",
    "# Understanding Complex Hermitian and Unitary Matrices\n",
    "\n",
    "This tutorial delves into two pivotal concepts in quantum computing and linear algebra: complex Hermitian and Unitary matrices. Both play critical roles in quantum mechanics and quantum computing, underpinning the behavior of quantum systems and the operations performed on them.\n",
    "\n",
    "## Objectives\n",
    "- Define and explore the properties of complex Hermitian matrices.\n",
    "- Understand and implement complex Unitary matrices in Python.\n",
    "- Highlight their significance and applications in quantum computing.\n",
    "\n",
    "Prepare to enhance your mathematical toolkit with these foundational concepts, illustrated with Python examples for a hands-on learning experience.\n"
   ]
  },
  {
   "cell_type": "markdown",
   "id": "172b4789-ccc2-41be-ae1b-fff456a76c41",
   "metadata": {},
   "source": [
    "\n",
    "## Complex Hermitian Matrices\n",
    "\n",
    "A Hermitian matrix, or self-adjoint matrix, is a square matrix that is equal to its own conjugate transpose. This property makes it a natural representation of observable quantities in quantum mechanics.\n",
    "\n",
    "### Properties\n",
    "- The eigenvalues of a Hermitian matrix are always real.\n",
    "- The eigenvectors of a Hermitian matrix corresponding to different eigenvalues are orthogonal.\n",
    "- Hermitian matrices are extensively used in quantum mechanics to describe physical observables.\n",
    "\n",
    "### Python Example: Defining a Hermitian Matrix\n"
   ]
  },
  {
   "cell_type": "markdown",
   "id": "f70f9d50-9c8b-4ad0-b780-6274c25381b0",
   "metadata": {},
   "source": [
    "\n",
    "import numpy as np\n",
    "\n",
    "# Define a complex Hermitian matrix\n",
    "hermitian_matrix = np.array([[2+0j, 2-1j], [2+1j, 3+0j]])\n",
    "\n",
    "# Check if the matrix is Hermitian\n",
    "is_hermitian = np.allclose(hermitian_matrix, hermitian_matrix.conj().T)\n",
    "\n",
    "is_hermitian, hermitian_matrix\n"
   ]
  },
  {
   "cell_type": "markdown",
   "id": "6c6e41c4-7edb-46e0-b5a3-9dc381541312",
   "metadata": {},
   "source": [
    "\n",
    "## Complex Unitary Matrices\n",
    "\n",
    "A Unitary matrix is a square matrix whose conjugate transpose is also its inverse. Unitary matrices preserve the inner product, making them essential for describing quantum gates and evolution in quantum computing.\n",
    "\n",
    "### Properties\n",
    "- Preserves the norm of vectors, hence preserving quantum states during transformations.\n",
    "- The determinant of a Unitary matrix has an absolute value of 1.\n",
    "- Used to represent reversible quantum operations and time evolution in quantum systems.\n",
    "\n",
    "### Python Example: Defining a Unitary Matrix\n"
   ]
  },
  {
   "cell_type": "markdown",
   "id": "d9d9e6f9-8289-47f0-92f9-98c59bdba5fa",
   "metadata": {},
   "source": [
    "\n",
    "# Define a complex Unitary matrix\n",
    "unitary_matrix = np.array([[1/np.sqrt(2), 1/np.sqrt(2)], [1/np.sqrt(2)*1j, -1/np.sqrt(2)*1j]])\n",
    "\n",
    "# Check if the matrix is Unitary\n",
    "# np.eye(2) returns the identity of size 2x2\n",
    "is_unitary = np.allclose(np.dot(unitary_matrix, unitary_matrix.conj().T), np.eye(2))\n",
    "\n",
    "is_unitary, unitary_matrix\n"
   ]
  },
  {
   "cell_type": "markdown",
   "id": "85750bcf-34ab-49ab-9163-509b29e719c9",
   "metadata": {},
   "source": [
    "# Tensor product"
   ]
  },
  {
   "cell_type": "markdown",
   "id": "b85487ee-1d19-47ab-a0a7-e05c8b758b13",
   "metadata": {},
   "source": [
    "\n",
    "## Tensor Product for Complex Vectors\n",
    "\n",
    "The tensor product of two complex vectors creates a new vector in a higher-dimensional space, allowing us to combine quantum states in quantum computing.\n",
    "\n",
    "### Example\n"
   ]
  },
  {
   "cell_type": "markdown",
   "id": "d21cb655-ac23-426c-aeaf-431f83f4f2ca",
   "metadata": {},
   "source": [
    "\n",
    "import numpy as np\n",
    "\n",
    "# Define two complex vectors for the tensor product\n",
    "v1 = np.array([1+2j, 3+4j])\n",
    "v2 = np.array([5+6j, 7+8j])\n",
    "\n",
    "# Calculate the tensor product\n",
    "tensor_product_v = np.kron(v1, v2)\n",
    "\n",
    "tensor_product_v\n"
   ]
  },
  {
   "cell_type": "markdown",
   "id": "aa89e379-8ce8-493d-8b0e-6461a7fc1325",
   "metadata": {},
   "source": [
    "\n",
    "## Tensor Product for Complex Matrices\n",
    "\n",
    "The tensor product for matrices combines individual matrices into a larger matrix, crucial for representing multiple qubit systems in quantum computing.\n",
    "\n",
    "### Example\n"
   ]
  },
  {
   "cell_type": "markdown",
   "id": "812188ef-8ab0-47c3-b220-57b2a0854a93",
   "metadata": {},
   "source": [
    "\n",
    "# Define two complex matrices for the tensor product\n",
    "M1 = np.array([[1+2j, 3+4j], [5+6j, 7+8j]])\n",
    "M2 = np.array([[9+10j, 11+12j], [13+14j, 15+16j]])\n",
    "\n",
    "# Calculate the tensor product\n",
    "tensor_product_m = np.kron(M1, M2)\n",
    "\n",
    "tensor_product_m\n"
   ]
  },
  {
   "cell_type": "code",
   "execution_count": null,
   "id": "d961b48b-a1dc-431d-ada2-555aec3281be",
   "metadata": {},
   "outputs": [],
   "source": [
    "# Exercises on Complex Vector and Matrix Operations\n",
    "\n",
    "This set of exercises is designed to test your understanding of various concepts related to complex vector and matrix operations, which are foundational in quantum computing. Each exercise presents a concrete case for you to apply what you've learned about Hermitian matrices, Unitary matrices, and tensor products.\n",
    "\n",
    "NOTE: VERIFY YOUR COMPUTATIONS IN PAPER AND IN THE COMPUTER.\n",
    "\n",
    "## Exercise 1: Complex Hermitian Matrices\n",
    "\n",
    "Consider the matrix:\n",
    "\n",
    "$$ H = \\begin{bmatrix} 3 & 2+i \\\\ 2-i & 1 \\end{bmatrix} $$\n",
    "\n",
    "- Verify if $ H $ is a Hermitian matrix.\n",
    "- If it is, find its eigenvalues.\n",
    "\n",
    "## Exercise 2: Complex Unitary Matrices\n",
    "\n",
    "Consider the matrix:\n",
    "\n",
    "$$ U = \\frac{1}{\\sqrt{2}}\\begin{bmatrix} 1 & i \\\\ i & 1 \\end{bmatrix} $$\n",
    "\n",
    "- Verify if $ U $ is a Unitary matrix.\n",
    "- Compute $ UU^\\dagger $ to confirm its Unitarity, where $ U^\\dagger $ denotes the conjugate transpose of $ U $.\n",
    "\n",
    "## Exercise 3: Tensor Product for Complex Vectors\n",
    "\n",
    "Given the complex vectors:\n",
    "\n",
    "$$ \\mathbf{v} = \\begin{bmatrix} 1+i \\\\ 2-i \\end{bmatrix}, \\quad \\mathbf{w} = \\begin{bmatrix} 1-2i \\\\ 3 \\end{bmatrix} $$\n",
    "\n",
    "Calculate the tensor product $ \\mathbf{v} \\otimes \\mathbf{w} $.\n",
    "\n",
    "## Exercise 4: Tensor Product for Complex Matrices\n",
    "\n",
    "Given the matrices:\n",
    "\n",
    "$$ M_1 = \\begin{bmatrix} 0 & 1 \\\\ 1 & 0 \\end{bmatrix}, \\quad M_2 = \\begin{bmatrix} i & 0 \\\\ 0 & -i \\end{bmatrix} $$\n",
    "\n",
    "Calculate the tensor product $ M_1 \\otimes M_2 $.\n",
    "\n",
    "## Exercise 5: Modelling quantum computations with vectors and matrices\n",
    "\n",
    "Using matrices and vectors, implement a model of the Mach/Zehnder interferometer.\n",
    "\n",
    "![Mach-Zehnder interferometer](images/Mach-Zehnder-Interferometer.png)\n",
    "\n",
    "## Exercise 6: Composing quantum systems \n",
    "\n",
    "Using matrices and vectors, implement a model of the following circuit.\n",
    "\n",
    "![Mach-Zehnder interferometer](images/Deutsch-Algorithm.png)\n",
    "\n",
    "Use the following MAtrix for $U_f$:\n",
    "\n",
    "![Mach-Zehnder interferometer](images/ExampleUf.png)\n",
    "\n"
   ]
  },
  {
   "cell_type": "code",
   "execution_count": null,
   "id": "88e33dfd-c15e-4cbb-8b20-208efb0aadf7",
   "metadata": {},
   "outputs": [],
   "source": [
    "# Answer "
   ]
  },
  {
   "cell_type": "markdown",
   "id": "51034acd-fc2c-484c-b68e-28b81f6fee02",
   "metadata": {},
   "source": [
    "## Exercise 1: Complex Hermitian Matrices\n",
    "\n",
    "Consider the matrix:\n",
    "\n",
    "$$ H = \\begin{bmatrix} 3 & 2+i \\\\ 2-i & 1 \\end{bmatrix} $$\n",
    "\n",
    "- Verify if $ H $ is a Hermitian matrix.\n",
    "- If it is, find its eigenvalues.\n",
    "  "
   ]
  },
  {
   "cell_type": "markdown",
   "id": "dd9d4e3e-4d99-458c-a426-1fa53c795d42",
   "metadata": {},
   "source": [
    "# Define the matrix H\n",
    "H = np.array([[3, 2+1j], [2-1j, 1]])\n",
    "\n",
    "# Check if H is Hermitian\n",
    "is_hermitian = np.allclose(H, H.conj().T)\n"
   ]
  },
  {
   "cell_type": "markdown",
   "id": "aa044901-044f-47ae-ac3e-0f63a4d4dfcf",
   "metadata": {},
   "source": [
    "## Exercise 2: Complex Unitary Matrices\n",
    "\n",
    "Consider the matrix:\n",
    "\n",
    "$$ U = \\frac{1}{\\sqrt{2}}\\begin{bmatrix} 1 & i \\\\ i & 1 \\end{bmatrix} $$\n",
    "\n",
    "- Verify if $ U $ is a Unitary matrix.\n",
    "- Compute $ UU^\\dagger $ to confirm its Unitarity, where $ U^\\dagger $ denotes the conjugate transpose of $ U $.\n"
   ]
  },
  {
   "cell_type": "markdown",
   "id": "50050ad5-7128-47df-95b6-f49e671e0be0",
   "metadata": {},
   "source": [
    "import numpy as np\n",
    "U = np.array([[1/np.sqrt(2), 1j/np.sqrt(2)], [1j/np.sqrt(2), 1/np.sqrt(2)]])\n",
    "\n",
    "# Check if U is Unitary\n",
    "is_unitary = np.allclose(np.dot(U, U.conj().T), np.eye(2))\n",
    "UU_dagger = np.dot(U, U.conj().T)\n",
    "\n",
    "print(\"UU†:\")\n",
    "print(UU_dagger)"
   ]
  },
  {
   "cell_type": "markdown",
   "id": "3f9cae85-f510-40f6-a934-b00149b6e9a2",
   "metadata": {},
   "source": [
    "## Exercise 3: Tensor Product for Complex Vectors\n",
    "\n",
    "Given the complex vectors:\n",
    "\n",
    "$$ \\mathbf{v} = \\begin{bmatrix} 1+i \\\\ 2-i \\end{bmatrix}, \\quad \\mathbf{w} = \\begin{bmatrix} 1-2i \\\\ 3 \\end{bmatrix} $$\n",
    "\n",
    "Calculate the tensor product $ \\mathbf{v} \\otimes \\mathbf{w} $."
   ]
  },
  {
   "cell_type": "markdown",
   "id": "415082ae-03d2-44a0-8cfc-0f8e65dbc038",
   "metadata": {},
   "source": [
    "# Define the complex vectors v and w\n",
    "v = np.array([1+1j, 2-1j])\n",
    "w = np.array([1-2j, 3])\n",
    "ten_prod_vw = np.outer(v, w)\n",
    "print(\"Tensor product v ⊗ w:\")\n",
    "print(ten_prod_vw)"
   ]
  },
  {
   "cell_type": "markdown",
   "id": "b3237030-9458-4f49-abc0-9c404cfd28f8",
   "metadata": {},
   "source": [
    "## Exercise 4: Tensor Product for Complex Matrices\n",
    "\n",
    "Given the matrices:\n",
    "\n",
    "$$ M_1 = \\begin{bmatrix} 0 & 1 \\\\ 1 & 0 \\end{bmatrix}, \\quad M_2 = \\begin{bmatrix} i & 0 \\\\ 0 & -i \\end{bmatrix} $$\n",
    "\n",
    "Calculate the tensor product $ M_1 \\otimes M_2 $.\n"
   ]
  },
  {
   "cell_type": "markdown",
   "id": "02214813-bc7a-4ffb-971d-7ea864325447",
   "metadata": {},
   "source": [
    "# Define the complex matrices M1 and M2\n",
    "M1 = np.array([[0, 1], [1, 0]])\n",
    "M2 = np.array([[1j, 0], [0, -1j]])\n",
    "ten_prod_M1_M2 = np.kron(M1, M2)\n",
    "print(\"Tensor product M1 ⊗ M2:\")\n",
    "print(ten_prod_M1_M2)"
   ]
  },
  {
   "cell_type": "markdown",
   "id": "3d80c2db-0953-499f-81ae-259ef066407f",
   "metadata": {},
   "source": [
    "## Exercise 5: Modelling quantum computations with vectors and matrices\n",
    "\n",
    "Using matrices and vectors, implement a model of the Mach/Zehnder interferometer.\n",
    "\n",
    "![Mach-Zehnder interferometer](images/Mach-Zehnder-Interferometer.png)\n"
   ]
  },
  {
   "cell_type": "markdown",
   "id": "8c9fe476-a4db-41f8-bbe2-2f8a78cc2011",
   "metadata": {},
   "source": [
    "# Define the initial input state vector (|0>)\n",
    "input_state = np.array([1, 0])\n",
    "\n",
    "# Define the beamsplitter matrix (50/50 beamsplitter)\n",
    "beamsplitter_matrix = np.array([[1/np.sqrt(2), 1/np.sqrt(2)], [1/np.sqrt(2), -1/np.sqrt(2)]])\n",
    "\n",
    "# Define the phase shifter matrix (phase shift of pi/2)\n",
    "phase_shifter_matrix = np.array([[1, 0], [0, np.exp(1j * np.pi / 2)]])\n",
    "\n",
    "# Define the identity matrix (for representing absence of a component)\n",
    "identity_matrix = np.eye(2)\n",
    "\n",
    "# Define the components of the Mach-Zehnder interferometer\n",
    "# The interferometer consists of two beamsplitters and two phase shifters\n",
    "component1 = beamsplitter_matrix\n",
    "component2 = identity_matrix\n",
    "component3 = phase_shifter_matrix\n",
    "component4 = beamsplitter_matrix\n",
    "\n",
    "# Propagate the input state vector through each component\n",
    "output_state = np.dot(component4, np.dot(component3, np.dot(component2, np.dot(component1, input_state))))\n",
    "\n",
    "print(\"Output state vector after passing through the Mach-Zehnder interferometer:\")\n",
    "print(output_state)"
   ]
  },
  {
   "cell_type": "markdown",
   "id": "a62d0cb3-808e-4b81-85b9-26de66d68ee6",
   "metadata": {},
   "source": [
    "## Exercise 6: Composing quantum systems \n",
    "\n",
    "Using matrices and vectors, implement a model of the following circuit.\n",
    "\n",
    "![Mach-Zehnder interferometer](images/Deutsch-Algorithm.png)\n",
    "\n",
    "Use the following MAtrix for $U_f$:\n",
    "\n",
    "![Mach-Zehnder interferometer](images/ExampleUf.png)"
   ]
  },
  {
   "cell_type": "markdown",
   "id": "3767be70-e05e-4495-9e6b-fe1172292c06",
   "metadata": {},
   "source": [
    "# Define the initial input state vector (|00>)\n",
    "input_state = np.array([1, 0, 0, 0])\n",
    "\n",
    "# Define the Hadamard gate matrix\n",
    "Hadamard_gate = 1 / np.sqrt(2) * np.array([[1, 1], [1, -1]])\n",
    "\n",
    "# Define the Oracle gate matrix (U_f)\n",
    "Uf_gate = np.array([[0, 1, 0, 0],\n",
    "                    [1, 0, 0, 0],\n",
    "                    [0, 0, 1, 0],\n",
    "                    [0, 0, 0, -1]])\n",
    "\n",
    "# Propagate the input state vector through the gates\n",
    "# Apply Hadamard gate to first qubit\n",
    "state_after_H = np.kron(Hadamard_gate, np.eye(2)) @ input_state\n",
    "\n",
    "# Apply the Oracle gate to both qubits\n",
    "state_after_Uf = Uf_gate @ state_after_H\n",
    "\n",
    "# Apply Hadamard gate to first qubit again\n",
    "state_after_second_H = np.kron(Hadamard_gate, np.eye(2)) @ state_after_Uf\n",
    "\n",
    "# The final state vector represents the output state\n",
    "output_state = state_after_second_H\n",
    "\n",
    "print(\"Output state vector after passing through the circuit:\")\n",
    "print(output_state)\n",
    "Output state vector after passing through the circuit:\n",
    "[ 0.5  0.5 -0.5  0.5]"
   ]
  }
 ],
 "metadata": {
  "kernelspec": {
   "display_name": "Python 3 (ipykernel)",
   "language": "python",
   "name": "python3"
  },
  "language_info": {
   "codemirror_mode": {
    "name": "ipython",
    "version": 3
   },
   "file_extension": ".py",
   "mimetype": "text/x-python",
   "name": "python",
   "nbconvert_exporter": "python",
   "pygments_lexer": "ipython3",
   "version": "3.9.13"
  }
 },
 "nbformat": 4,
 "nbformat_minor": 5
}
